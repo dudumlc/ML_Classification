{
  "nbformat": 4,
  "nbformat_minor": 0,
  "metadata": {
    "colab": {
      "provenance": [],
      "authorship_tag": "ABX9TyNdemjx5F2B8oVj+RCqhtF7",
      "include_colab_link": true
    },
    "kernelspec": {
      "name": "python3",
      "display_name": "Python 3"
    },
    "language_info": {
      "name": "python"
    }
  },
  "cells": [
    {
      "cell_type": "markdown",
      "metadata": {
        "id": "view-in-github",
        "colab_type": "text"
      },
      "source": [
        "<a href=\"https://colab.research.google.com/github/dudumlc/ML_Classification/blob/main/Churn.ipynb\" target=\"_parent\"><img src=\"https://colab.research.google.com/assets/colab-badge.svg\" alt=\"Open In Colab\"/></a>"
      ]
    },
    {
      "cell_type": "markdown",
      "source": [
        "## 1. IMPORTAÇÃO DAS BIBLIOTECAS E DO DATASET A SER ESTUDADO"
      ],
      "metadata": {
        "id": "iW8jwv343mIu"
      }
    },
    {
      "cell_type": "code",
      "execution_count": 40,
      "metadata": {
        "id": "sSIRnqOosoYq"
      },
      "outputs": [],
      "source": [
        "# IMPORTAÇÃO DAS BIBLIOTECAS A SEREM USADAS\n",
        "\n",
        "import pandas as pd\n",
        "import numpy as np\n",
        "from pandas.api.types import infer_dtype\n",
        "\n",
        "import matplotlib.pyplot as plt\n",
        "import seaborn as sns\n",
        "import plotly.express as px\n",
        "import plotly.graph_objects as go\n",
        "\n",
        "from sklearn.model_selection import train_test_split\n",
        "from sklearn.preprocessing import OneHotEncoder\n",
        "\n",
        "from sklearn.ensemble import RandomForestClassifier\n",
        "from sklearn.neighbors import KNeighborsClassifier\n",
        "from sklearn.linear_model import LogisticRegression\n",
        "from sklearn.svm import SVC\n",
        "from xgboost import XGBClassifier\n",
        "\n",
        "from sklearn.metrics import accuracy_score, f1_score, precision_score, recall_score\n",
        "\n",
        "from sklearn.model_selection import GridSearchCV"
      ]
    },
    {
      "cell_type": "code",
      "source": [
        "# IMPORT DO DATASET\n",
        "df_raw = pd.read_csv('churn.csv')"
      ],
      "metadata": {
        "id": "R9cVOl-4tIQj"
      },
      "execution_count": 41,
      "outputs": []
    },
    {
      "cell_type": "markdown",
      "source": [
        "> Foi decidido criar uma cópia do dataset em outra variável para manter o dataframe bruto (df_raw) intacto. Dessa forma, caso alguma alteração seja feita erroneamente na variável cópia, o dataset original não precisará ser importado novamente, pois ele estará salvo como backup."
      ],
      "metadata": {
        "id": "VDwQYnrms-1A"
      }
    },
    {
      "cell_type": "code",
      "source": [
        "# CRIANDO UMA CÓPIA DO DATASET ORIGINAL\n",
        "df = df_raw.copy()"
      ],
      "metadata": {
        "id": "iMt7KMwO2FCc"
      },
      "execution_count": 42,
      "outputs": []
    },
    {
      "cell_type": "markdown",
      "source": [
        "## 2. ENTENDIMENTO DO DATASET"
      ],
      "metadata": {
        "id": "JsL9-uNZ3t4Y"
      }
    },
    {
      "cell_type": "code",
      "source": [
        "df.head(10)"
      ],
      "metadata": {
        "colab": {
          "base_uri": "https://localhost:8080/",
          "height": 586
        },
        "id": "rYy2-HH-tOyA",
        "outputId": "36fb932a-e7c0-44d6-94bb-ca1d8e76f2cb"
      },
      "execution_count": 43,
      "outputs": [
        {
          "output_type": "execute_result",
          "data": {
            "text/plain": [
              "   customerID  gender  SeniorCitizen Partner Dependents  tenure PhoneService  \\\n",
              "0  7590-VHVEG  Female              0     Yes         No       1           No   \n",
              "1  5575-GNVDE    Male              0      No         No      34          Yes   \n",
              "2  3668-QPYBK    Male              0      No         No       2          Yes   \n",
              "3  7795-CFOCW    Male              0      No         No      45           No   \n",
              "4  9237-HQITU  Female              0      No         No       2          Yes   \n",
              "5  9305-CDSKC  Female              0      No         No       8          Yes   \n",
              "6  1452-KIOVK    Male              0      No        Yes      22          Yes   \n",
              "7  6713-OKOMC  Female              0      No         No      10           No   \n",
              "8  7892-POOKP  Female              0     Yes         No      28          Yes   \n",
              "9  6388-TABGU    Male              0      No        Yes      62          Yes   \n",
              "\n",
              "      MultipleLines InternetService OnlineSecurity  ... DeviceProtection  \\\n",
              "0  No phone service             DSL             No  ...               No   \n",
              "1                No             DSL            Yes  ...              Yes   \n",
              "2                No             DSL            Yes  ...               No   \n",
              "3  No phone service             DSL            Yes  ...              Yes   \n",
              "4                No     Fiber optic             No  ...               No   \n",
              "5               Yes     Fiber optic             No  ...              Yes   \n",
              "6               Yes     Fiber optic             No  ...               No   \n",
              "7  No phone service             DSL            Yes  ...               No   \n",
              "8               Yes     Fiber optic             No  ...              Yes   \n",
              "9                No             DSL            Yes  ...               No   \n",
              "\n",
              "  TechSupport StreamingTV StreamingMovies        Contract PaperlessBilling  \\\n",
              "0          No          No              No  Month-to-month              Yes   \n",
              "1          No          No              No        One year               No   \n",
              "2          No          No              No  Month-to-month              Yes   \n",
              "3         Yes          No              No        One year               No   \n",
              "4          No          No              No  Month-to-month              Yes   \n",
              "5          No         Yes             Yes  Month-to-month              Yes   \n",
              "6          No         Yes              No  Month-to-month              Yes   \n",
              "7          No          No              No  Month-to-month               No   \n",
              "8         Yes         Yes             Yes  Month-to-month              Yes   \n",
              "9          No          No              No        One year               No   \n",
              "\n",
              "               PaymentMethod MonthlyCharges  TotalCharges Churn  \n",
              "0           Electronic check          29.85         29.85    No  \n",
              "1               Mailed check          56.95        1889.5    No  \n",
              "2               Mailed check          53.85        108.15   Yes  \n",
              "3  Bank transfer (automatic)          42.30       1840.75    No  \n",
              "4           Electronic check          70.70        151.65   Yes  \n",
              "5           Electronic check          99.65         820.5   Yes  \n",
              "6    Credit card (automatic)          89.10        1949.4    No  \n",
              "7               Mailed check          29.75         301.9    No  \n",
              "8           Electronic check         104.80       3046.05   Yes  \n",
              "9  Bank transfer (automatic)          56.15       3487.95    No  \n",
              "\n",
              "[10 rows x 21 columns]"
            ],
            "text/html": [
              "\n",
              "  <div id=\"df-41c158eb-8621-49f2-9f2e-9cf90f1e9e7a\" class=\"colab-df-container\">\n",
              "    <div>\n",
              "<style scoped>\n",
              "    .dataframe tbody tr th:only-of-type {\n",
              "        vertical-align: middle;\n",
              "    }\n",
              "\n",
              "    .dataframe tbody tr th {\n",
              "        vertical-align: top;\n",
              "    }\n",
              "\n",
              "    .dataframe thead th {\n",
              "        text-align: right;\n",
              "    }\n",
              "</style>\n",
              "<table border=\"1\" class=\"dataframe\">\n",
              "  <thead>\n",
              "    <tr style=\"text-align: right;\">\n",
              "      <th></th>\n",
              "      <th>customerID</th>\n",
              "      <th>gender</th>\n",
              "      <th>SeniorCitizen</th>\n",
              "      <th>Partner</th>\n",
              "      <th>Dependents</th>\n",
              "      <th>tenure</th>\n",
              "      <th>PhoneService</th>\n",
              "      <th>MultipleLines</th>\n",
              "      <th>InternetService</th>\n",
              "      <th>OnlineSecurity</th>\n",
              "      <th>...</th>\n",
              "      <th>DeviceProtection</th>\n",
              "      <th>TechSupport</th>\n",
              "      <th>StreamingTV</th>\n",
              "      <th>StreamingMovies</th>\n",
              "      <th>Contract</th>\n",
              "      <th>PaperlessBilling</th>\n",
              "      <th>PaymentMethod</th>\n",
              "      <th>MonthlyCharges</th>\n",
              "      <th>TotalCharges</th>\n",
              "      <th>Churn</th>\n",
              "    </tr>\n",
              "  </thead>\n",
              "  <tbody>\n",
              "    <tr>\n",
              "      <th>0</th>\n",
              "      <td>7590-VHVEG</td>\n",
              "      <td>Female</td>\n",
              "      <td>0</td>\n",
              "      <td>Yes</td>\n",
              "      <td>No</td>\n",
              "      <td>1</td>\n",
              "      <td>No</td>\n",
              "      <td>No phone service</td>\n",
              "      <td>DSL</td>\n",
              "      <td>No</td>\n",
              "      <td>...</td>\n",
              "      <td>No</td>\n",
              "      <td>No</td>\n",
              "      <td>No</td>\n",
              "      <td>No</td>\n",
              "      <td>Month-to-month</td>\n",
              "      <td>Yes</td>\n",
              "      <td>Electronic check</td>\n",
              "      <td>29.85</td>\n",
              "      <td>29.85</td>\n",
              "      <td>No</td>\n",
              "    </tr>\n",
              "    <tr>\n",
              "      <th>1</th>\n",
              "      <td>5575-GNVDE</td>\n",
              "      <td>Male</td>\n",
              "      <td>0</td>\n",
              "      <td>No</td>\n",
              "      <td>No</td>\n",
              "      <td>34</td>\n",
              "      <td>Yes</td>\n",
              "      <td>No</td>\n",
              "      <td>DSL</td>\n",
              "      <td>Yes</td>\n",
              "      <td>...</td>\n",
              "      <td>Yes</td>\n",
              "      <td>No</td>\n",
              "      <td>No</td>\n",
              "      <td>No</td>\n",
              "      <td>One year</td>\n",
              "      <td>No</td>\n",
              "      <td>Mailed check</td>\n",
              "      <td>56.95</td>\n",
              "      <td>1889.5</td>\n",
              "      <td>No</td>\n",
              "    </tr>\n",
              "    <tr>\n",
              "      <th>2</th>\n",
              "      <td>3668-QPYBK</td>\n",
              "      <td>Male</td>\n",
              "      <td>0</td>\n",
              "      <td>No</td>\n",
              "      <td>No</td>\n",
              "      <td>2</td>\n",
              "      <td>Yes</td>\n",
              "      <td>No</td>\n",
              "      <td>DSL</td>\n",
              "      <td>Yes</td>\n",
              "      <td>...</td>\n",
              "      <td>No</td>\n",
              "      <td>No</td>\n",
              "      <td>No</td>\n",
              "      <td>No</td>\n",
              "      <td>Month-to-month</td>\n",
              "      <td>Yes</td>\n",
              "      <td>Mailed check</td>\n",
              "      <td>53.85</td>\n",
              "      <td>108.15</td>\n",
              "      <td>Yes</td>\n",
              "    </tr>\n",
              "    <tr>\n",
              "      <th>3</th>\n",
              "      <td>7795-CFOCW</td>\n",
              "      <td>Male</td>\n",
              "      <td>0</td>\n",
              "      <td>No</td>\n",
              "      <td>No</td>\n",
              "      <td>45</td>\n",
              "      <td>No</td>\n",
              "      <td>No phone service</td>\n",
              "      <td>DSL</td>\n",
              "      <td>Yes</td>\n",
              "      <td>...</td>\n",
              "      <td>Yes</td>\n",
              "      <td>Yes</td>\n",
              "      <td>No</td>\n",
              "      <td>No</td>\n",
              "      <td>One year</td>\n",
              "      <td>No</td>\n",
              "      <td>Bank transfer (automatic)</td>\n",
              "      <td>42.30</td>\n",
              "      <td>1840.75</td>\n",
              "      <td>No</td>\n",
              "    </tr>\n",
              "    <tr>\n",
              "      <th>4</th>\n",
              "      <td>9237-HQITU</td>\n",
              "      <td>Female</td>\n",
              "      <td>0</td>\n",
              "      <td>No</td>\n",
              "      <td>No</td>\n",
              "      <td>2</td>\n",
              "      <td>Yes</td>\n",
              "      <td>No</td>\n",
              "      <td>Fiber optic</td>\n",
              "      <td>No</td>\n",
              "      <td>...</td>\n",
              "      <td>No</td>\n",
              "      <td>No</td>\n",
              "      <td>No</td>\n",
              "      <td>No</td>\n",
              "      <td>Month-to-month</td>\n",
              "      <td>Yes</td>\n",
              "      <td>Electronic check</td>\n",
              "      <td>70.70</td>\n",
              "      <td>151.65</td>\n",
              "      <td>Yes</td>\n",
              "    </tr>\n",
              "    <tr>\n",
              "      <th>5</th>\n",
              "      <td>9305-CDSKC</td>\n",
              "      <td>Female</td>\n",
              "      <td>0</td>\n",
              "      <td>No</td>\n",
              "      <td>No</td>\n",
              "      <td>8</td>\n",
              "      <td>Yes</td>\n",
              "      <td>Yes</td>\n",
              "      <td>Fiber optic</td>\n",
              "      <td>No</td>\n",
              "      <td>...</td>\n",
              "      <td>Yes</td>\n",
              "      <td>No</td>\n",
              "      <td>Yes</td>\n",
              "      <td>Yes</td>\n",
              "      <td>Month-to-month</td>\n",
              "      <td>Yes</td>\n",
              "      <td>Electronic check</td>\n",
              "      <td>99.65</td>\n",
              "      <td>820.5</td>\n",
              "      <td>Yes</td>\n",
              "    </tr>\n",
              "    <tr>\n",
              "      <th>6</th>\n",
              "      <td>1452-KIOVK</td>\n",
              "      <td>Male</td>\n",
              "      <td>0</td>\n",
              "      <td>No</td>\n",
              "      <td>Yes</td>\n",
              "      <td>22</td>\n",
              "      <td>Yes</td>\n",
              "      <td>Yes</td>\n",
              "      <td>Fiber optic</td>\n",
              "      <td>No</td>\n",
              "      <td>...</td>\n",
              "      <td>No</td>\n",
              "      <td>No</td>\n",
              "      <td>Yes</td>\n",
              "      <td>No</td>\n",
              "      <td>Month-to-month</td>\n",
              "      <td>Yes</td>\n",
              "      <td>Credit card (automatic)</td>\n",
              "      <td>89.10</td>\n",
              "      <td>1949.4</td>\n",
              "      <td>No</td>\n",
              "    </tr>\n",
              "    <tr>\n",
              "      <th>7</th>\n",
              "      <td>6713-OKOMC</td>\n",
              "      <td>Female</td>\n",
              "      <td>0</td>\n",
              "      <td>No</td>\n",
              "      <td>No</td>\n",
              "      <td>10</td>\n",
              "      <td>No</td>\n",
              "      <td>No phone service</td>\n",
              "      <td>DSL</td>\n",
              "      <td>Yes</td>\n",
              "      <td>...</td>\n",
              "      <td>No</td>\n",
              "      <td>No</td>\n",
              "      <td>No</td>\n",
              "      <td>No</td>\n",
              "      <td>Month-to-month</td>\n",
              "      <td>No</td>\n",
              "      <td>Mailed check</td>\n",
              "      <td>29.75</td>\n",
              "      <td>301.9</td>\n",
              "      <td>No</td>\n",
              "    </tr>\n",
              "    <tr>\n",
              "      <th>8</th>\n",
              "      <td>7892-POOKP</td>\n",
              "      <td>Female</td>\n",
              "      <td>0</td>\n",
              "      <td>Yes</td>\n",
              "      <td>No</td>\n",
              "      <td>28</td>\n",
              "      <td>Yes</td>\n",
              "      <td>Yes</td>\n",
              "      <td>Fiber optic</td>\n",
              "      <td>No</td>\n",
              "      <td>...</td>\n",
              "      <td>Yes</td>\n",
              "      <td>Yes</td>\n",
              "      <td>Yes</td>\n",
              "      <td>Yes</td>\n",
              "      <td>Month-to-month</td>\n",
              "      <td>Yes</td>\n",
              "      <td>Electronic check</td>\n",
              "      <td>104.80</td>\n",
              "      <td>3046.05</td>\n",
              "      <td>Yes</td>\n",
              "    </tr>\n",
              "    <tr>\n",
              "      <th>9</th>\n",
              "      <td>6388-TABGU</td>\n",
              "      <td>Male</td>\n",
              "      <td>0</td>\n",
              "      <td>No</td>\n",
              "      <td>Yes</td>\n",
              "      <td>62</td>\n",
              "      <td>Yes</td>\n",
              "      <td>No</td>\n",
              "      <td>DSL</td>\n",
              "      <td>Yes</td>\n",
              "      <td>...</td>\n",
              "      <td>No</td>\n",
              "      <td>No</td>\n",
              "      <td>No</td>\n",
              "      <td>No</td>\n",
              "      <td>One year</td>\n",
              "      <td>No</td>\n",
              "      <td>Bank transfer (automatic)</td>\n",
              "      <td>56.15</td>\n",
              "      <td>3487.95</td>\n",
              "      <td>No</td>\n",
              "    </tr>\n",
              "  </tbody>\n",
              "</table>\n",
              "<p>10 rows × 21 columns</p>\n",
              "</div>\n",
              "    <div class=\"colab-df-buttons\">\n",
              "\n",
              "  <div class=\"colab-df-container\">\n",
              "    <button class=\"colab-df-convert\" onclick=\"convertToInteractive('df-41c158eb-8621-49f2-9f2e-9cf90f1e9e7a')\"\n",
              "            title=\"Convert this dataframe to an interactive table.\"\n",
              "            style=\"display:none;\">\n",
              "\n",
              "  <svg xmlns=\"http://www.w3.org/2000/svg\" height=\"24px\" viewBox=\"0 -960 960 960\">\n",
              "    <path d=\"M120-120v-720h720v720H120Zm60-500h600v-160H180v160Zm220 220h160v-160H400v160Zm0 220h160v-160H400v160ZM180-400h160v-160H180v160Zm440 0h160v-160H620v160ZM180-180h160v-160H180v160Zm440 0h160v-160H620v160Z\"/>\n",
              "  </svg>\n",
              "    </button>\n",
              "\n",
              "  <style>\n",
              "    .colab-df-container {\n",
              "      display:flex;\n",
              "      gap: 12px;\n",
              "    }\n",
              "\n",
              "    .colab-df-convert {\n",
              "      background-color: #E8F0FE;\n",
              "      border: none;\n",
              "      border-radius: 50%;\n",
              "      cursor: pointer;\n",
              "      display: none;\n",
              "      fill: #1967D2;\n",
              "      height: 32px;\n",
              "      padding: 0 0 0 0;\n",
              "      width: 32px;\n",
              "    }\n",
              "\n",
              "    .colab-df-convert:hover {\n",
              "      background-color: #E2EBFA;\n",
              "      box-shadow: 0px 1px 2px rgba(60, 64, 67, 0.3), 0px 1px 3px 1px rgba(60, 64, 67, 0.15);\n",
              "      fill: #174EA6;\n",
              "    }\n",
              "\n",
              "    .colab-df-buttons div {\n",
              "      margin-bottom: 4px;\n",
              "    }\n",
              "\n",
              "    [theme=dark] .colab-df-convert {\n",
              "      background-color: #3B4455;\n",
              "      fill: #D2E3FC;\n",
              "    }\n",
              "\n",
              "    [theme=dark] .colab-df-convert:hover {\n",
              "      background-color: #434B5C;\n",
              "      box-shadow: 0px 1px 3px 1px rgba(0, 0, 0, 0.15);\n",
              "      filter: drop-shadow(0px 1px 2px rgba(0, 0, 0, 0.3));\n",
              "      fill: #FFFFFF;\n",
              "    }\n",
              "  </style>\n",
              "\n",
              "    <script>\n",
              "      const buttonEl =\n",
              "        document.querySelector('#df-41c158eb-8621-49f2-9f2e-9cf90f1e9e7a button.colab-df-convert');\n",
              "      buttonEl.style.display =\n",
              "        google.colab.kernel.accessAllowed ? 'block' : 'none';\n",
              "\n",
              "      async function convertToInteractive(key) {\n",
              "        const element = document.querySelector('#df-41c158eb-8621-49f2-9f2e-9cf90f1e9e7a');\n",
              "        const dataTable =\n",
              "          await google.colab.kernel.invokeFunction('convertToInteractive',\n",
              "                                                    [key], {});\n",
              "        if (!dataTable) return;\n",
              "\n",
              "        const docLinkHtml = 'Like what you see? Visit the ' +\n",
              "          '<a target=\"_blank\" href=https://colab.research.google.com/notebooks/data_table.ipynb>data table notebook</a>'\n",
              "          + ' to learn more about interactive tables.';\n",
              "        element.innerHTML = '';\n",
              "        dataTable['output_type'] = 'display_data';\n",
              "        await google.colab.output.renderOutput(dataTable, element);\n",
              "        const docLink = document.createElement('div');\n",
              "        docLink.innerHTML = docLinkHtml;\n",
              "        element.appendChild(docLink);\n",
              "      }\n",
              "    </script>\n",
              "  </div>\n",
              "\n",
              "\n",
              "<div id=\"df-9f33131b-a7db-4dc7-9e67-5489534a724e\">\n",
              "  <button class=\"colab-df-quickchart\" onclick=\"quickchart('df-9f33131b-a7db-4dc7-9e67-5489534a724e')\"\n",
              "            title=\"Suggest charts.\"\n",
              "            style=\"display:none;\">\n",
              "\n",
              "<svg xmlns=\"http://www.w3.org/2000/svg\" height=\"24px\"viewBox=\"0 0 24 24\"\n",
              "     width=\"24px\">\n",
              "    <g>\n",
              "        <path d=\"M19 3H5c-1.1 0-2 .9-2 2v14c0 1.1.9 2 2 2h14c1.1 0 2-.9 2-2V5c0-1.1-.9-2-2-2zM9 17H7v-7h2v7zm4 0h-2V7h2v10zm4 0h-2v-4h2v4z\"/>\n",
              "    </g>\n",
              "</svg>\n",
              "  </button>\n",
              "\n",
              "<style>\n",
              "  .colab-df-quickchart {\n",
              "      --bg-color: #E8F0FE;\n",
              "      --fill-color: #1967D2;\n",
              "      --hover-bg-color: #E2EBFA;\n",
              "      --hover-fill-color: #174EA6;\n",
              "      --disabled-fill-color: #AAA;\n",
              "      --disabled-bg-color: #DDD;\n",
              "  }\n",
              "\n",
              "  [theme=dark] .colab-df-quickchart {\n",
              "      --bg-color: #3B4455;\n",
              "      --fill-color: #D2E3FC;\n",
              "      --hover-bg-color: #434B5C;\n",
              "      --hover-fill-color: #FFFFFF;\n",
              "      --disabled-bg-color: #3B4455;\n",
              "      --disabled-fill-color: #666;\n",
              "  }\n",
              "\n",
              "  .colab-df-quickchart {\n",
              "    background-color: var(--bg-color);\n",
              "    border: none;\n",
              "    border-radius: 50%;\n",
              "    cursor: pointer;\n",
              "    display: none;\n",
              "    fill: var(--fill-color);\n",
              "    height: 32px;\n",
              "    padding: 0;\n",
              "    width: 32px;\n",
              "  }\n",
              "\n",
              "  .colab-df-quickchart:hover {\n",
              "    background-color: var(--hover-bg-color);\n",
              "    box-shadow: 0 1px 2px rgba(60, 64, 67, 0.3), 0 1px 3px 1px rgba(60, 64, 67, 0.15);\n",
              "    fill: var(--button-hover-fill-color);\n",
              "  }\n",
              "\n",
              "  .colab-df-quickchart-complete:disabled,\n",
              "  .colab-df-quickchart-complete:disabled:hover {\n",
              "    background-color: var(--disabled-bg-color);\n",
              "    fill: var(--disabled-fill-color);\n",
              "    box-shadow: none;\n",
              "  }\n",
              "\n",
              "  .colab-df-spinner {\n",
              "    border: 2px solid var(--fill-color);\n",
              "    border-color: transparent;\n",
              "    border-bottom-color: var(--fill-color);\n",
              "    animation:\n",
              "      spin 1s steps(1) infinite;\n",
              "  }\n",
              "\n",
              "  @keyframes spin {\n",
              "    0% {\n",
              "      border-color: transparent;\n",
              "      border-bottom-color: var(--fill-color);\n",
              "      border-left-color: var(--fill-color);\n",
              "    }\n",
              "    20% {\n",
              "      border-color: transparent;\n",
              "      border-left-color: var(--fill-color);\n",
              "      border-top-color: var(--fill-color);\n",
              "    }\n",
              "    30% {\n",
              "      border-color: transparent;\n",
              "      border-left-color: var(--fill-color);\n",
              "      border-top-color: var(--fill-color);\n",
              "      border-right-color: var(--fill-color);\n",
              "    }\n",
              "    40% {\n",
              "      border-color: transparent;\n",
              "      border-right-color: var(--fill-color);\n",
              "      border-top-color: var(--fill-color);\n",
              "    }\n",
              "    60% {\n",
              "      border-color: transparent;\n",
              "      border-right-color: var(--fill-color);\n",
              "    }\n",
              "    80% {\n",
              "      border-color: transparent;\n",
              "      border-right-color: var(--fill-color);\n",
              "      border-bottom-color: var(--fill-color);\n",
              "    }\n",
              "    90% {\n",
              "      border-color: transparent;\n",
              "      border-bottom-color: var(--fill-color);\n",
              "    }\n",
              "  }\n",
              "</style>\n",
              "\n",
              "  <script>\n",
              "    async function quickchart(key) {\n",
              "      const quickchartButtonEl =\n",
              "        document.querySelector('#' + key + ' button');\n",
              "      quickchartButtonEl.disabled = true;  // To prevent multiple clicks.\n",
              "      quickchartButtonEl.classList.add('colab-df-spinner');\n",
              "      try {\n",
              "        const charts = await google.colab.kernel.invokeFunction(\n",
              "            'suggestCharts', [key], {});\n",
              "      } catch (error) {\n",
              "        console.error('Error during call to suggestCharts:', error);\n",
              "      }\n",
              "      quickchartButtonEl.classList.remove('colab-df-spinner');\n",
              "      quickchartButtonEl.classList.add('colab-df-quickchart-complete');\n",
              "    }\n",
              "    (() => {\n",
              "      let quickchartButtonEl =\n",
              "        document.querySelector('#df-9f33131b-a7db-4dc7-9e67-5489534a724e button');\n",
              "      quickchartButtonEl.style.display =\n",
              "        google.colab.kernel.accessAllowed ? 'block' : 'none';\n",
              "    })();\n",
              "  </script>\n",
              "</div>\n",
              "    </div>\n",
              "  </div>\n"
            ]
          },
          "metadata": {},
          "execution_count": 43
        }
      ]
    },
    {
      "cell_type": "code",
      "source": [
        "# DIMENSÕES DO DATASET\n",
        "df.shape"
      ],
      "metadata": {
        "colab": {
          "base_uri": "https://localhost:8080/"
        },
        "id": "Pwn4OOjq2CWG",
        "outputId": "6a60df82-5083-4fe2-fc03-d06b43fece0c"
      },
      "execution_count": 44,
      "outputs": [
        {
          "output_type": "execute_result",
          "data": {
            "text/plain": [
              "(7043, 21)"
            ]
          },
          "metadata": {},
          "execution_count": 44
        }
      ]
    },
    {
      "cell_type": "code",
      "source": [
        "# QUANTIDADE DE LINHAS DUPLICADAS\n",
        "df.duplicated().sum()"
      ],
      "metadata": {
        "colab": {
          "base_uri": "https://localhost:8080/"
        },
        "id": "HSJfmIIPyFxM",
        "outputId": "2c6ca84a-4393-47e3-92b2-6295907b4ecc"
      },
      "execution_count": 45,
      "outputs": [
        {
          "output_type": "execute_result",
          "data": {
            "text/plain": [
              "0"
            ]
          },
          "metadata": {},
          "execution_count": 45
        }
      ]
    },
    {
      "cell_type": "code",
      "source": [
        "# QUANTIDADE DE DADOS NULOS POR COLUNA\n",
        "df.isnull().sum()"
      ],
      "metadata": {
        "colab": {
          "base_uri": "https://localhost:8080/"
        },
        "id": "TVwDg0zav8TD",
        "outputId": "3e695f83-0097-48fa-928d-1792002e742b"
      },
      "execution_count": 46,
      "outputs": [
        {
          "output_type": "execute_result",
          "data": {
            "text/plain": [
              "customerID          0\n",
              "gender              0\n",
              "SeniorCitizen       0\n",
              "Partner             0\n",
              "Dependents          0\n",
              "tenure              0\n",
              "PhoneService        0\n",
              "MultipleLines       0\n",
              "InternetService     0\n",
              "OnlineSecurity      0\n",
              "OnlineBackup        0\n",
              "DeviceProtection    0\n",
              "TechSupport         0\n",
              "StreamingTV         0\n",
              "StreamingMovies     0\n",
              "Contract            0\n",
              "PaperlessBilling    0\n",
              "PaymentMethod       0\n",
              "MonthlyCharges      0\n",
              "TotalCharges        0\n",
              "Churn               0\n",
              "dtype: int64"
            ]
          },
          "metadata": {},
          "execution_count": 46
        }
      ]
    },
    {
      "cell_type": "code",
      "source": [
        "# TIPO DE DADOS DE CADA COLUNA\n",
        "df.info()"
      ],
      "metadata": {
        "colab": {
          "base_uri": "https://localhost:8080/"
        },
        "id": "AUnOMCtOtTJf",
        "outputId": "467ed69b-8346-4a2a-b541-93581bae2c58"
      },
      "execution_count": 47,
      "outputs": [
        {
          "output_type": "stream",
          "name": "stdout",
          "text": [
            "<class 'pandas.core.frame.DataFrame'>\n",
            "RangeIndex: 7043 entries, 0 to 7042\n",
            "Data columns (total 21 columns):\n",
            " #   Column            Non-Null Count  Dtype  \n",
            "---  ------            --------------  -----  \n",
            " 0   customerID        7043 non-null   object \n",
            " 1   gender            7043 non-null   object \n",
            " 2   SeniorCitizen     7043 non-null   int64  \n",
            " 3   Partner           7043 non-null   object \n",
            " 4   Dependents        7043 non-null   object \n",
            " 5   tenure            7043 non-null   int64  \n",
            " 6   PhoneService      7043 non-null   object \n",
            " 7   MultipleLines     7043 non-null   object \n",
            " 8   InternetService   7043 non-null   object \n",
            " 9   OnlineSecurity    7043 non-null   object \n",
            " 10  OnlineBackup      7043 non-null   object \n",
            " 11  DeviceProtection  7043 non-null   object \n",
            " 12  TechSupport       7043 non-null   object \n",
            " 13  StreamingTV       7043 non-null   object \n",
            " 14  StreamingMovies   7043 non-null   object \n",
            " 15  Contract          7043 non-null   object \n",
            " 16  PaperlessBilling  7043 non-null   object \n",
            " 17  PaymentMethod     7043 non-null   object \n",
            " 18  MonthlyCharges    7043 non-null   float64\n",
            " 19  TotalCharges      7043 non-null   object \n",
            " 20  Churn             7043 non-null   object \n",
            "dtypes: float64(1), int64(2), object(18)\n",
            "memory usage: 1.1+ MB\n"
          ]
        }
      ]
    },
    {
      "cell_type": "code",
      "source": [
        "# QUANTIDADE DE CADA TIPO DE DADOS\n",
        "df.dtypes.value_counts()"
      ],
      "metadata": {
        "colab": {
          "base_uri": "https://localhost:8080/"
        },
        "id": "EqUcyFV3v2nx",
        "outputId": "822bc31a-6368-43c9-90fa-d225ac012e55"
      },
      "execution_count": 48,
      "outputs": [
        {
          "output_type": "execute_result",
          "data": {
            "text/plain": [
              "object     18\n",
              "int64       2\n",
              "float64     1\n",
              "dtype: int64"
            ]
          },
          "metadata": {},
          "execution_count": 48
        }
      ]
    },
    {
      "cell_type": "markdown",
      "source": [
        "> A análise da granularidade das colunas é feita já previamente para saber quais colunas focar na etapa de limpeza dos dados, pois colunas com granularidade muito alta (muitos dados distintos) não são muito informativas para o modelo e, por isso, devem ser analisadas para decidir a real necessidade de serem mantidas. No caso abaixo, as colunas muito granulares são as numéricas (o que é comum, já que cada mínima diferença entre os números representa um novo dado distinto) e a coluna ID, que representa um código diferente por cliente. Ela não é informativa e deveria ser retirada do modelo, porém será mantida na relação apenas para que, ao final do projeto, seja possível colocá-la ao lado da respectiva predição e assim, poder associar o cliente ao churn respectivo predito."
      ],
      "metadata": {
        "id": "RfOu_JYsNbJ-"
      }
    },
    {
      "cell_type": "code",
      "source": [
        "# GRANULARIDADE DE CADA COLUNA\n",
        "df.nunique()"
      ],
      "metadata": {
        "colab": {
          "base_uri": "https://localhost:8080/"
        },
        "id": "eX6NUnKqwVp2",
        "outputId": "cbd7a318-477c-4f7c-941d-36588337cbc0"
      },
      "execution_count": 49,
      "outputs": [
        {
          "output_type": "execute_result",
          "data": {
            "text/plain": [
              "customerID          7043\n",
              "gender                 2\n",
              "SeniorCitizen          2\n",
              "Partner                2\n",
              "Dependents             2\n",
              "tenure                73\n",
              "PhoneService           2\n",
              "MultipleLines          3\n",
              "InternetService        3\n",
              "OnlineSecurity         3\n",
              "OnlineBackup           3\n",
              "DeviceProtection       3\n",
              "TechSupport            3\n",
              "StreamingTV            3\n",
              "StreamingMovies        3\n",
              "Contract               3\n",
              "PaperlessBilling       2\n",
              "PaymentMethod          4\n",
              "MonthlyCharges      1585\n",
              "TotalCharges        6531\n",
              "Churn                  2\n",
              "dtype: int64"
            ]
          },
          "metadata": {},
          "execution_count": 49
        }
      ]
    },
    {
      "cell_type": "markdown",
      "source": [
        "## 3. SEPARAÇÃO EM MASSA DE TREINO E TESTE\n",
        "#### Separação sendo feita antes do pré-processamento dos dados para evitar vazamento (Data Leakage)"
      ],
      "metadata": {
        "id": "x4QSP6X5D2Ur"
      }
    },
    {
      "cell_type": "code",
      "source": [
        "# CRIAÇÃO DA VARIÁVEL TARGET, FEATURES E SEPARANDO A COLUNA ID\n",
        "ID = df.iloc[:,0]\n",
        "X = df.iloc[:,1:-1].copy()\n",
        "y = df['Churn'].replace({'Yes':1,'No':0}).copy()"
      ],
      "metadata": {
        "id": "b2HPlUbXETG_"
      },
      "execution_count": 50,
      "outputs": []
    },
    {
      "cell_type": "code",
      "source": [
        "# SEPARAÇÃO DAS MASSAS DE TREINO, VALIDAÇÃO E TESTE\n",
        "X_train, X_test, y_train, y_test = train_test_split(X, y, test_size=0.3)"
      ],
      "metadata": {
        "id": "11wis6YdEM6u"
      },
      "execution_count": 51,
      "outputs": []
    },
    {
      "cell_type": "markdown",
      "source": [
        "## 4. LIMPEZA E PRÉ-PROCESSAMENTO DOS DADOS"
      ],
      "metadata": {
        "id": "uoG-dpKEARTr"
      }
    },
    {
      "cell_type": "markdown",
      "source": [
        "> Foi percebido que haviam 11 células da coluna TotalCharges com apenas um espaço (' ') escrito."
      ],
      "metadata": {
        "id": "dPABAC1KA5s9"
      }
    },
    {
      "cell_type": "code",
      "source": [
        "# QUANTIDAED DE CÉLULAS QUE POSSUEM APENAS UM ESPAÇO (' ') NA COLUNA TotalCharges\n",
        "print('Quantidade de células preenchidas por um espaço no df de treino:',    len(X_train[X_train['TotalCharges'] == ' ']))\n",
        "print('Quantidade de células preenchidas por um espaço no df de teste:',     len(X_test[X_test['TotalCharges'] == ' ']))"
      ],
      "metadata": {
        "colab": {
          "base_uri": "https://localhost:8080/"
        },
        "id": "WuwypBShAUwE",
        "outputId": "07331e40-0639-4cd7-f15d-aa771b9d2eff"
      },
      "execution_count": 52,
      "outputs": [
        {
          "output_type": "stream",
          "name": "stdout",
          "text": [
            "Quantidade de células preenchidas por um espaço no df de treino: 8\n",
            "Quantidade de células preenchidas por um espaço no df de teste: 3\n"
          ]
        }
      ]
    },
    {
      "cell_type": "markdown",
      "source": [
        "> Para não perder as informações das outras features preenchidas, foi decidido não apagar a linha e inputar a média da coluna no lugar dessas células. Contudo, para conseguir extrair a média é necessário alterar a coluna para o tipo *Float*, e para isso é necessário remover a string que estava escrita indevidamente (' '). Com isso, substituirei essas células por um valor nulo e posteriormente substuirei os valores nulos pela média calculada dos valores da coluna."
      ],
      "metadata": {
        "id": "QzdjiMg1qy5Y"
      }
    },
    {
      "cell_type": "code",
      "source": [
        "# SUBSTITUIÇÃO DAS CÉLULAS \" \" POR UM VALOR NULO\n",
        "X_train['TotalCharges'] = X_train['TotalCharges'].replace(' ',None)\n",
        "X_test['TotalCharges'] = X_test['TotalCharges'].replace(' ',None)"
      ],
      "metadata": {
        "id": "FN5bLxjbilj6"
      },
      "execution_count": 53,
      "outputs": []
    },
    {
      "cell_type": "code",
      "source": [
        "# ALTERANDO A COLUNA TotalCharges PARA TIPO FLOAT\n",
        "X_train['TotalCharges'] = X_train['TotalCharges'].astype('float')\n",
        "X_test['TotalCharges'] = X_test['TotalCharges'].astype('float')"
      ],
      "metadata": {
        "id": "HO8HjY-VjyjK"
      },
      "execution_count": 54,
      "outputs": []
    },
    {
      "cell_type": "code",
      "source": [
        "# FINALMENTE, SUBSTITUINDO AS CÉLULAS PELA MÉDIA DA COLUNA\n",
        "X_train['TotalCharges'] = X_train['TotalCharges'].fillna(X_train['TotalCharges'].mean())\n",
        "X_test['TotalCharges'] = X_test['TotalCharges'].fillna(X_test['TotalCharges'].mean())"
      ],
      "metadata": {
        "id": "DbfNP5BSsHkM"
      },
      "execution_count": 55,
      "outputs": []
    },
    {
      "cell_type": "markdown",
      "source": [
        "> Os tipos de dados das outras colunas também serão ajustados. Dessa forma, será garantido que as colunas numéricas estarão em formato de *Float* ou *Int* e que as colunas categóricas estarão em formato de *Category* (é mais correto e economiza mais espaço do armazenamento do que manter colunas no formato *Object*)."
      ],
      "metadata": {
        "id": "ZeMm8M1VtlSg"
      }
    },
    {
      "cell_type": "code",
      "source": [
        "# ALTERANDO COLUNAS DO DATASET DE TREINO PARA CATEGORY\n",
        "object_cols = X_train.select_dtypes(include='object').columns\n",
        "X_train[object_cols] = X_train[object_cols].astype('category')\n",
        "\n",
        "# ALTERANDO COLUNAS DO DATASET DE TESTE PARA CATEGORY\n",
        "object_cols2 = X_test.select_dtypes(include='object').columns\n",
        "X_test[object_cols2] = X_test[object_cols2].astype('category')"
      ],
      "metadata": {
        "id": "u6byNDg0s7oZ"
      },
      "execution_count": 56,
      "outputs": []
    },
    {
      "cell_type": "markdown",
      "source": [
        "> O modo mais adequado e eficiente de estruturar os dados para treinar o modelo de Machine Learning é armazenar os dados em formato numérico. Isso porque a interpretabilidade e compatibilidade com os modelos é maior com esse tipo de dados. Dessa forma, será usada a técnica de OneHotEncoder para transformar as colunas categóricas em colunas numéricas."
      ],
      "metadata": {
        "id": "B9Y5VHvIwJAd"
      }
    },
    {
      "cell_type": "code",
      "source": [
        "print(f\"São {len(X_train.columns.values)} colunas, sendo elas:\",X_train.columns.values)"
      ],
      "metadata": {
        "colab": {
          "base_uri": "https://localhost:8080/"
        },
        "id": "94F0YRxjR04x",
        "outputId": "59c80a59-2f87-44ee-f13f-4c8283467d3d"
      },
      "execution_count": 57,
      "outputs": [
        {
          "output_type": "stream",
          "name": "stdout",
          "text": [
            "São 19 colunas, sendo elas: ['gender' 'SeniorCitizen' 'Partner' 'Dependents' 'tenure' 'PhoneService'\n",
            " 'MultipleLines' 'InternetService' 'OnlineSecurity' 'OnlineBackup'\n",
            " 'DeviceProtection' 'TechSupport' 'StreamingTV' 'StreamingMovies'\n",
            " 'Contract' 'PaperlessBilling' 'PaymentMethod' 'MonthlyCharges'\n",
            " 'TotalCharges']\n"
          ]
        }
      ]
    },
    {
      "cell_type": "code",
      "source": [
        "# CRIANDO UMA VARIÁVEL PARA O ONEHOTENCODER. O PARÂMETRO DROP='IF-BINARY' EXCLUIRÁ AS COLUNAS BINÁRIAS\n",
        "encoder = OneHotEncoder(drop='if_binary')\n",
        "encoder"
      ],
      "metadata": {
        "colab": {
          "base_uri": "https://localhost:8080/",
          "height": 75
        },
        "id": "3DNcXlsWu8ri",
        "outputId": "dd868f56-5090-4ce6-df95-60d61c3d2779"
      },
      "execution_count": 58,
      "outputs": [
        {
          "output_type": "execute_result",
          "data": {
            "text/plain": [
              "OneHotEncoder(drop='if_binary')"
            ],
            "text/html": [
              "<style>#sk-container-id-2 {color: black;background-color: white;}#sk-container-id-2 pre{padding: 0;}#sk-container-id-2 div.sk-toggleable {background-color: white;}#sk-container-id-2 label.sk-toggleable__label {cursor: pointer;display: block;width: 100%;margin-bottom: 0;padding: 0.3em;box-sizing: border-box;text-align: center;}#sk-container-id-2 label.sk-toggleable__label-arrow:before {content: \"▸\";float: left;margin-right: 0.25em;color: #696969;}#sk-container-id-2 label.sk-toggleable__label-arrow:hover:before {color: black;}#sk-container-id-2 div.sk-estimator:hover label.sk-toggleable__label-arrow:before {color: black;}#sk-container-id-2 div.sk-toggleable__content {max-height: 0;max-width: 0;overflow: hidden;text-align: left;background-color: #f0f8ff;}#sk-container-id-2 div.sk-toggleable__content pre {margin: 0.2em;color: black;border-radius: 0.25em;background-color: #f0f8ff;}#sk-container-id-2 input.sk-toggleable__control:checked~div.sk-toggleable__content {max-height: 200px;max-width: 100%;overflow: auto;}#sk-container-id-2 input.sk-toggleable__control:checked~label.sk-toggleable__label-arrow:before {content: \"▾\";}#sk-container-id-2 div.sk-estimator input.sk-toggleable__control:checked~label.sk-toggleable__label {background-color: #d4ebff;}#sk-container-id-2 div.sk-label input.sk-toggleable__control:checked~label.sk-toggleable__label {background-color: #d4ebff;}#sk-container-id-2 input.sk-hidden--visually {border: 0;clip: rect(1px 1px 1px 1px);clip: rect(1px, 1px, 1px, 1px);height: 1px;margin: -1px;overflow: hidden;padding: 0;position: absolute;width: 1px;}#sk-container-id-2 div.sk-estimator {font-family: monospace;background-color: #f0f8ff;border: 1px dotted black;border-radius: 0.25em;box-sizing: border-box;margin-bottom: 0.5em;}#sk-container-id-2 div.sk-estimator:hover {background-color: #d4ebff;}#sk-container-id-2 div.sk-parallel-item::after {content: \"\";width: 100%;border-bottom: 1px solid gray;flex-grow: 1;}#sk-container-id-2 div.sk-label:hover label.sk-toggleable__label {background-color: #d4ebff;}#sk-container-id-2 div.sk-serial::before {content: \"\";position: absolute;border-left: 1px solid gray;box-sizing: border-box;top: 0;bottom: 0;left: 50%;z-index: 0;}#sk-container-id-2 div.sk-serial {display: flex;flex-direction: column;align-items: center;background-color: white;padding-right: 0.2em;padding-left: 0.2em;position: relative;}#sk-container-id-2 div.sk-item {position: relative;z-index: 1;}#sk-container-id-2 div.sk-parallel {display: flex;align-items: stretch;justify-content: center;background-color: white;position: relative;}#sk-container-id-2 div.sk-item::before, #sk-container-id-2 div.sk-parallel-item::before {content: \"\";position: absolute;border-left: 1px solid gray;box-sizing: border-box;top: 0;bottom: 0;left: 50%;z-index: -1;}#sk-container-id-2 div.sk-parallel-item {display: flex;flex-direction: column;z-index: 1;position: relative;background-color: white;}#sk-container-id-2 div.sk-parallel-item:first-child::after {align-self: flex-end;width: 50%;}#sk-container-id-2 div.sk-parallel-item:last-child::after {align-self: flex-start;width: 50%;}#sk-container-id-2 div.sk-parallel-item:only-child::after {width: 0;}#sk-container-id-2 div.sk-dashed-wrapped {border: 1px dashed gray;margin: 0 0.4em 0.5em 0.4em;box-sizing: border-box;padding-bottom: 0.4em;background-color: white;}#sk-container-id-2 div.sk-label label {font-family: monospace;font-weight: bold;display: inline-block;line-height: 1.2em;}#sk-container-id-2 div.sk-label-container {text-align: center;}#sk-container-id-2 div.sk-container {/* jupyter's `normalize.less` sets `[hidden] { display: none; }` but bootstrap.min.css set `[hidden] { display: none !important; }` so we also need the `!important` here to be able to override the default hidden behavior on the sphinx rendered scikit-learn.org. See: https://github.com/scikit-learn/scikit-learn/issues/21755 */display: inline-block !important;position: relative;}#sk-container-id-2 div.sk-text-repr-fallback {display: none;}</style><div id=\"sk-container-id-2\" class=\"sk-top-container\"><div class=\"sk-text-repr-fallback\"><pre>OneHotEncoder(drop=&#x27;if_binary&#x27;)</pre><b>In a Jupyter environment, please rerun this cell to show the HTML representation or trust the notebook. <br />On GitHub, the HTML representation is unable to render, please try loading this page with nbviewer.org.</b></div><div class=\"sk-container\" hidden><div class=\"sk-item\"><div class=\"sk-estimator sk-toggleable\"><input class=\"sk-toggleable__control sk-hidden--visually\" id=\"sk-estimator-id-2\" type=\"checkbox\" checked><label for=\"sk-estimator-id-2\" class=\"sk-toggleable__label sk-toggleable__label-arrow\">OneHotEncoder</label><div class=\"sk-toggleable__content\"><pre>OneHotEncoder(drop=&#x27;if_binary&#x27;)</pre></div></div></div></div></div>"
            ]
          },
          "metadata": {},
          "execution_count": 58
        }
      ]
    },
    {
      "cell_type": "markdown",
      "source": [
        "> Como apenas as features categóricas serão processadas pelo OneHotEncoder, criarei um dataframe com as colunas numéricas para que assim, após a conversão das colunas categóricas, seja possível unir os dados em um único df."
      ],
      "metadata": {
        "id": "oAWu3Z_2Kv97"
      }
    },
    {
      "cell_type": "code",
      "source": [
        "# CRIANDO UM DATAFRAME APENAS COM COLUNAS NUMÉRICAS\n",
        "num_cols_train = X_train[X_train.select_dtypes(include='number').columns]\n",
        "num_cols_test = X_test[X_test.select_dtypes(include='number').columns]"
      ],
      "metadata": {
        "id": "fUB2OpcA2CCP"
      },
      "execution_count": 59,
      "outputs": []
    },
    {
      "cell_type": "markdown",
      "source": [
        "> O encoder será ajustado aos dados de treino (para evitar data leakage, caso fosse ajustado aos dados de teste também) e apenas transformará as outras bases"
      ],
      "metadata": {
        "id": "jyOjP1MpO9dF"
      }
    },
    {
      "cell_type": "code",
      "source": [
        "# LISTANDO AS COLUNAS CATEGÓRICAS - *não importa de qual base pegar. Teste, treino e validação possuem as mesmas colunas*\n",
        "cat_cols = X_train.select_dtypes(exclude='number').columns\n",
        "\n",
        "# AJUSTANDO O ENCODER AOS DADOS DE TREINO E APENAS TRANSFORMANDO OS OUTROS DADOS\n",
        "encoder.fit(X_train[cat_cols])\n",
        "\n",
        "transformed_cat_cols_train = encoder.transform(X_train[cat_cols]).toarray()\n",
        "transformed_cat_cols_test = encoder.transform(X_test[cat_cols]).toarray()"
      ],
      "metadata": {
        "id": "Yao_cH9CzAAi"
      },
      "execution_count": 60,
      "outputs": []
    },
    {
      "cell_type": "markdown",
      "source": [
        "> Com a matriz resultante do OneHotEncoder criada, é necessário convertê-la novmamente para dataframe e unir novamente os dados transformados com os dados numéricos do dataset."
      ],
      "metadata": {
        "id": "OkHwNulUQHZ3"
      }
    },
    {
      "cell_type": "code",
      "source": [
        "# LISTANDO OS NOVOS NOMES DAS COLUNAS TRANSFORMADAS\n",
        "transformed_cat_cols_names = encoder.get_feature_names_out(cat_cols)\n",
        "print(f\"Tornaram-se {len(transformed_cat_cols_names)} colunas, sendo elas:\",transformed_cat_cols_names)"
      ],
      "metadata": {
        "colab": {
          "base_uri": "https://localhost:8080/"
        },
        "id": "1JU05-X8QXxU",
        "outputId": "01df3868-f916-4009-b722-02e27e1f84de"
      },
      "execution_count": 61,
      "outputs": [
        {
          "output_type": "stream",
          "name": "stdout",
          "text": [
            "Tornaram-se 36 colunas, sendo elas: ['gender_Male' 'Partner_Yes' 'Dependents_Yes' 'PhoneService_Yes'\n",
            " 'MultipleLines_No' 'MultipleLines_No phone service' 'MultipleLines_Yes'\n",
            " 'InternetService_DSL' 'InternetService_Fiber optic' 'InternetService_No'\n",
            " 'OnlineSecurity_No' 'OnlineSecurity_No internet service'\n",
            " 'OnlineSecurity_Yes' 'OnlineBackup_No' 'OnlineBackup_No internet service'\n",
            " 'OnlineBackup_Yes' 'DeviceProtection_No'\n",
            " 'DeviceProtection_No internet service' 'DeviceProtection_Yes'\n",
            " 'TechSupport_No' 'TechSupport_No internet service' 'TechSupport_Yes'\n",
            " 'StreamingTV_No' 'StreamingTV_No internet service' 'StreamingTV_Yes'\n",
            " 'StreamingMovies_No' 'StreamingMovies_No internet service'\n",
            " 'StreamingMovies_Yes' 'Contract_Month-to-month' 'Contract_One year'\n",
            " 'Contract_Two year' 'PaperlessBilling_Yes'\n",
            " 'PaymentMethod_Bank transfer (automatic)'\n",
            " 'PaymentMethod_Credit card (automatic)' 'PaymentMethod_Electronic check'\n",
            " 'PaymentMethod_Mailed check']\n"
          ]
        }
      ]
    },
    {
      "cell_type": "code",
      "source": [
        "# TRANSFORMANDO A MATRIZ EM DATAFRAME NOVAMENTE\n",
        "transformed_cat_cols_train = pd.DataFrame(transformed_cat_cols_train, columns=transformed_cat_cols_names, index=X_train.index)\n",
        "transformed_cat_cols_test = pd.DataFrame(transformed_cat_cols_test, columns=transformed_cat_cols_names, index=X_test.index)"
      ],
      "metadata": {
        "id": "PkgMGoywQxkv"
      },
      "execution_count": 62,
      "outputs": []
    },
    {
      "cell_type": "code",
      "source": [
        "# UNINDO O DATAFRAME CRIADO COM O DATAFRAME QUE ARMAZENOU AS VARIÁVEIS NUMÉRICAS\n",
        "X_train_final = pd.concat([transformed_cat_cols_train,num_cols_train],axis=1)\n",
        "X_test_final = pd.concat([transformed_cat_cols_test,num_cols_test],axis=1)"
      ],
      "metadata": {
        "id": "8V14D1h0RQH_"
      },
      "execution_count": 63,
      "outputs": []
    },
    {
      "cell_type": "code",
      "source": [
        "# QUANTIDADE DE COLUNAS DO DATASET FINAL COM AS COLUNAS CATEGÓRICAS TRATADAS\n",
        "print(f\"O processo do OneHotEncoder retornou {X_train_final.shape[1]} colunas.\")"
      ],
      "metadata": {
        "colab": {
          "base_uri": "https://localhost:8080/"
        },
        "id": "8L-SwQKuPr5V",
        "outputId": "f67115a3-3a2c-4a4f-c85b-c61c0d02fc59"
      },
      "execution_count": 64,
      "outputs": [
        {
          "output_type": "stream",
          "name": "stdout",
          "text": [
            "O processo do OneHotEncoder retornou 40 colunas.\n"
          ]
        }
      ]
    },
    {
      "cell_type": "code",
      "source": [
        "# ANALISANDO COLUNAS RESULTANTES\n",
        "X_train_final.info()"
      ],
      "metadata": {
        "colab": {
          "base_uri": "https://localhost:8080/"
        },
        "id": "a5bFhGyJJuym",
        "outputId": "585eecb0-359f-4f69-c1e0-699fccac8e00"
      },
      "execution_count": 65,
      "outputs": [
        {
          "output_type": "stream",
          "name": "stdout",
          "text": [
            "<class 'pandas.core.frame.DataFrame'>\n",
            "Int64Index: 4930 entries, 6268 to 5966\n",
            "Data columns (total 40 columns):\n",
            " #   Column                                   Non-Null Count  Dtype  \n",
            "---  ------                                   --------------  -----  \n",
            " 0   gender_Male                              4930 non-null   float64\n",
            " 1   Partner_Yes                              4930 non-null   float64\n",
            " 2   Dependents_Yes                           4930 non-null   float64\n",
            " 3   PhoneService_Yes                         4930 non-null   float64\n",
            " 4   MultipleLines_No                         4930 non-null   float64\n",
            " 5   MultipleLines_No phone service           4930 non-null   float64\n",
            " 6   MultipleLines_Yes                        4930 non-null   float64\n",
            " 7   InternetService_DSL                      4930 non-null   float64\n",
            " 8   InternetService_Fiber optic              4930 non-null   float64\n",
            " 9   InternetService_No                       4930 non-null   float64\n",
            " 10  OnlineSecurity_No                        4930 non-null   float64\n",
            " 11  OnlineSecurity_No internet service       4930 non-null   float64\n",
            " 12  OnlineSecurity_Yes                       4930 non-null   float64\n",
            " 13  OnlineBackup_No                          4930 non-null   float64\n",
            " 14  OnlineBackup_No internet service         4930 non-null   float64\n",
            " 15  OnlineBackup_Yes                         4930 non-null   float64\n",
            " 16  DeviceProtection_No                      4930 non-null   float64\n",
            " 17  DeviceProtection_No internet service     4930 non-null   float64\n",
            " 18  DeviceProtection_Yes                     4930 non-null   float64\n",
            " 19  TechSupport_No                           4930 non-null   float64\n",
            " 20  TechSupport_No internet service          4930 non-null   float64\n",
            " 21  TechSupport_Yes                          4930 non-null   float64\n",
            " 22  StreamingTV_No                           4930 non-null   float64\n",
            " 23  StreamingTV_No internet service          4930 non-null   float64\n",
            " 24  StreamingTV_Yes                          4930 non-null   float64\n",
            " 25  StreamingMovies_No                       4930 non-null   float64\n",
            " 26  StreamingMovies_No internet service      4930 non-null   float64\n",
            " 27  StreamingMovies_Yes                      4930 non-null   float64\n",
            " 28  Contract_Month-to-month                  4930 non-null   float64\n",
            " 29  Contract_One year                        4930 non-null   float64\n",
            " 30  Contract_Two year                        4930 non-null   float64\n",
            " 31  PaperlessBilling_Yes                     4930 non-null   float64\n",
            " 32  PaymentMethod_Bank transfer (automatic)  4930 non-null   float64\n",
            " 33  PaymentMethod_Credit card (automatic)    4930 non-null   float64\n",
            " 34  PaymentMethod_Electronic check           4930 non-null   float64\n",
            " 35  PaymentMethod_Mailed check               4930 non-null   float64\n",
            " 36  SeniorCitizen                            4930 non-null   int64  \n",
            " 37  tenure                                   4930 non-null   int64  \n",
            " 38  MonthlyCharges                           4930 non-null   float64\n",
            " 39  TotalCharges                             4930 non-null   float64\n",
            "dtypes: float64(38), int64(2)\n",
            "memory usage: 1.5 MB\n"
          ]
        }
      ]
    },
    {
      "cell_type": "markdown",
      "source": [
        "> É possível notar que há várias colunas redundantes. Por exemplo, a coluna 'PhoneService_Yes' e a coluna 'MultipleLines_No phone service' apresentam a mesma informação sobre a ausência de serviços telefônicos. Da mesma forma, várias colunas apresentam a mesma informação da coluna 'InternetService_No' sobre a ausência de serviços de internet. Dessa forma, excluirei essas colunas para diminuir a multicolinearidade das variáveis, a dimensionalidade da base de dados e, eventualmente, um overfitting causado pela redundância dos dados."
      ],
      "metadata": {
        "id": "Agn5j86ELJLv"
      }
    },
    {
      "cell_type": "code",
      "source": [
        "# CRIANDO UMA LISTA COM AS COLUNAS A SEREM RETIRADAS\n",
        "cols_redundantes = []\n",
        "for i in X_train_final.columns:\n",
        "  if \"No internet service\" in i:\n",
        "    cols_redundantes.append(i)\n",
        "  elif \"No phone service\" in i:\n",
        "    cols_redundantes.append(i)\n",
        "  else:\n",
        "    continue"
      ],
      "metadata": {
        "id": "xX2LssTLM6H9"
      },
      "execution_count": 66,
      "outputs": []
    },
    {
      "cell_type": "markdown",
      "source": [
        "> Além das colunas anteriores, também é possível notar colunas complementares uma com a outra. Por exemplo, as colunas \"MultipleLines_No\" e \"MultipleLines_Yes\" são complementares. Dessa forma, uma delas pode ser excluída, visto que a informação de uma coluna está implícita na outra (quando \"MultipleLines_No\" for 1, consequentemente \"MultipleLine_Yes\" vai ser 0)."
      ],
      "metadata": {
        "id": "Lj1ypAkkRp15"
      }
    },
    {
      "cell_type": "code",
      "source": [
        "cols_redundantes"
      ],
      "metadata": {
        "colab": {
          "base_uri": "https://localhost:8080/"
        },
        "id": "XAb7tFGGTU-R",
        "outputId": "e544cc78-4c92-4fdf-e99f-57d9479e7f3e"
      },
      "execution_count": 67,
      "outputs": [
        {
          "output_type": "execute_result",
          "data": {
            "text/plain": [
              "['MultipleLines_No phone service',\n",
              " 'OnlineSecurity_No internet service',\n",
              " 'OnlineBackup_No internet service',\n",
              " 'DeviceProtection_No internet service',\n",
              " 'TechSupport_No internet service',\n",
              " 'StreamingTV_No internet service',\n",
              " 'StreamingMovies_No internet service']"
            ]
          },
          "metadata": {},
          "execution_count": 67
        }
      ]
    },
    {
      "cell_type": "code",
      "source": [
        "# INCLUINDO AS COLUNAS COMPLEMENTARES NA LISTA DE COLUNAS REDUNDANTES\n",
        "for i in X_train_final.columns:\n",
        "  if '_No' in i:\n",
        "    cols_redundantes.append(i)\n",
        "  else:\n",
        "    continue"
      ],
      "metadata": {
        "id": "1dGogXvNSgS-"
      },
      "execution_count": 80,
      "outputs": []
    },
    {
      "cell_type": "code",
      "source": [
        "# RETIRANDO AS COLUNAS DE TODAS AS BASES\n",
        "X_train_final.drop(cols_redundantes, axis=1,inplace=True)\n",
        "X_test_final.drop(cols_redundantes, axis=1,inplace=True)"
      ],
      "metadata": {
        "id": "VrV5cA4uOjwR"
      },
      "execution_count": 82,
      "outputs": []
    },
    {
      "cell_type": "code",
      "source": [
        "X_train_final.info()"
      ],
      "metadata": {
        "id": "eR5n_MGwlltZ",
        "outputId": "285ee8e4-647e-47a5-f708-4a01ba045b00",
        "colab": {
          "base_uri": "https://localhost:8080/"
        }
      },
      "execution_count": 83,
      "outputs": [
        {
          "output_type": "stream",
          "name": "stdout",
          "text": [
            "<class 'pandas.core.frame.DataFrame'>\n",
            "Int64Index: 4930 entries, 6268 to 5966\n",
            "Data columns (total 25 columns):\n",
            " #   Column                                   Non-Null Count  Dtype  \n",
            "---  ------                                   --------------  -----  \n",
            " 0   gender_Male                              4930 non-null   float64\n",
            " 1   Partner_Yes                              4930 non-null   float64\n",
            " 2   Dependents_Yes                           4930 non-null   float64\n",
            " 3   PhoneService_Yes                         4930 non-null   float64\n",
            " 4   MultipleLines_Yes                        4930 non-null   float64\n",
            " 5   InternetService_DSL                      4930 non-null   float64\n",
            " 6   InternetService_Fiber optic              4930 non-null   float64\n",
            " 7   OnlineSecurity_Yes                       4930 non-null   float64\n",
            " 8   OnlineBackup_Yes                         4930 non-null   float64\n",
            " 9   DeviceProtection_Yes                     4930 non-null   float64\n",
            " 10  TechSupport_Yes                          4930 non-null   float64\n",
            " 11  StreamingTV_Yes                          4930 non-null   float64\n",
            " 12  StreamingMovies_Yes                      4930 non-null   float64\n",
            " 13  Contract_Month-to-month                  4930 non-null   float64\n",
            " 14  Contract_One year                        4930 non-null   float64\n",
            " 15  Contract_Two year                        4930 non-null   float64\n",
            " 16  PaperlessBilling_Yes                     4930 non-null   float64\n",
            " 17  PaymentMethod_Bank transfer (automatic)  4930 non-null   float64\n",
            " 18  PaymentMethod_Credit card (automatic)    4930 non-null   float64\n",
            " 19  PaymentMethod_Electronic check           4930 non-null   float64\n",
            " 20  PaymentMethod_Mailed check               4930 non-null   float64\n",
            " 21  SeniorCitizen                            4930 non-null   int64  \n",
            " 22  tenure                                   4930 non-null   int64  \n",
            " 23  MonthlyCharges                           4930 non-null   float64\n",
            " 24  TotalCharges                             4930 non-null   float64\n",
            "dtypes: float64(23), int64(2)\n",
            "memory usage: 1001.4 KB\n"
          ]
        }
      ]
    },
    {
      "cell_type": "markdown",
      "source": [
        "## 5. TREINAMENTO E PREDIÇÃO DO MODELO"
      ],
      "metadata": {
        "id": "I5qbNQMpi1Wa"
      }
    },
    {
      "cell_type": "code",
      "source": [
        "# TREINANDO TODOS OS MODELOS\n",
        "regLog = LogisticRegression(C=1,max_iter=1000).fit(X_train_final, y_train)\n",
        "rf = RandomForestClassifier(n_estimators=100,max_depth=None,class_weight='balanced').fit(X_train_final, y_train)\n",
        "knn = KNeighborsClassifier(n_neighbors=12, metric='euclidean').fit(X_train_final, y_train)\n",
        "xgb_classifier = XGBClassifier(n_estimators=100,max_depth=3).fit(X_train_final, y_train)\n",
        "\n",
        "# PREVENDO O RESULTADO DOS MODELOS\n",
        "yLog = regLog.predict(X_test_final)\n",
        "yrf = rf.predict(X_test_final)\n",
        "yknn = knn.predict(X_test_final)\n",
        "yxgb = xgb_classifier.predict(X_test_final)"
      ],
      "metadata": {
        "id": "n7xRRx8hSx7S"
      },
      "execution_count": 84,
      "outputs": []
    },
    {
      "cell_type": "code",
      "source": [
        "# ANALISANDO A ACURÁCIA DOS MODELOS E SELECIONANDO O MELHOR\n",
        "print(f\"Accuracy LogisticRegression: {accuracy_score(yLog,y_test):.3f}\" )\n",
        "print(f\"Accuracy RandomForestClassifier: {accuracy_score(yrf,y_test):.3f}\" )\n",
        "print(f\"Accuracy KNeighborsClassifier: {accuracy_score(yknn,y_test):.3f}\" )\n",
        "print(f\"Accuracy XGBClassifier: {accuracy_score(yxgb,y_test):.3f}\" )"
      ],
      "metadata": {
        "colab": {
          "base_uri": "https://localhost:8080/"
        },
        "id": "8ZWbjxlQtIWA",
        "outputId": "1707da5d-da53-4a25-e39c-79a3163cb5b1"
      },
      "execution_count": 85,
      "outputs": [
        {
          "output_type": "stream",
          "name": "stdout",
          "text": [
            "Accuracy LogisticRegression: 0.783\n",
            "Accuracy RandomForestClassifier: 0.780\n",
            "Accuracy KNeighborsClassifier: 0.776\n",
            "Accuracy XGBClassifier: 0.787\n"
          ]
        }
      ]
    }
  ]
}